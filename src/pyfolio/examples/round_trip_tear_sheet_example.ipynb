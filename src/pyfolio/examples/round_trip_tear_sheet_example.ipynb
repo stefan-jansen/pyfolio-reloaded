{
 "cells": [
  {
   "cell_type": "markdown",
   "metadata": {},
   "source": [
    "# Round Trip Analysis"
   ]
  },
  {
   "cell_type": "markdown",
   "metadata": {},
   "source": [
    "When evaluating the performance of an investing strategy, it is helpful to quantify the frequency, duration, and profitability of its independent bets, or \"round trip\" trades. A round trip trade is started when a new long or short position is opened and then later completely or partially closed out.\n",
    "\n",
    "The intent of the round trip tearsheet is to help differentiate strategies that profited off a few lucky trades from strategies that profited repeatedly from genuine alpha. Breaking down round trip profitability by traded name and sector can also help inform universe selection and identify exposure risks. For example, even if your equity curve looks robust, if only two securities in your universe of fifteen names contributed to overall profitability, you may have reason to question the logic of your strategy.\n",
    "\n",
    "To identify round trips, pyfolio reconstructs the complete portfolio based on the transactions that you pass in. When you make a trade, pyfolio checks if shares are already present in your portfolio purchased at a certain price. If there are, we compute the PnL, returns and duration of that round trip trade. In calculating round trips, pyfolio will also append position closing transactions at the last timestamp in the positions data. This closing transaction will cause the PnL from any open positions to realized as completed round trips."
   ]
  },
  {
   "cell_type": "markdown",
   "metadata": {},
   "source": [
    "## Imports & Settins"
   ]
  },
  {
   "cell_type": "code",
   "execution_count": 1,
   "metadata": {
    "ExecuteTime": {
     "end_time": "2021-09-07T02:43:48.874652Z",
     "start_time": "2021-09-07T02:43:48.864891Z"
    }
   },
   "source": [
    "# silence warnings\n",
    "import warnings\n",
    "warnings.filterwarnings('ignore')"
   ],
   "outputs": []
  },
  {
   "cell_type": "code",
   "execution_count": 2,
   "metadata": {
    "ExecuteTime": {
     "end_time": "2021-09-07T02:43:50.546591Z",
     "start_time": "2021-09-07T02:43:48.989776Z"
    }
   },
   "source": [
    "import pyfolio as pf\n",
    "%matplotlib inline\n",
    "import gzip\n",
    "import os\n",
    "import pandas as pd"
   ],
   "outputs": []
  },
  {
   "cell_type": "markdown",
   "metadata": {},
   "source": [
    "## Load Data"
   ]
  },
  {
   "cell_type": "code",
   "execution_count": 3,
   "metadata": {
    "ExecuteTime": {
     "end_time": "2021-09-07T02:43:51.697971Z",
     "start_time": "2021-09-07T02:43:51.616535Z"
    }
   },
   "source": [
    "transactions = pd.read_csv(gzip.open('../tests/test_data/test_txn.csv.gz'),\n",
    "                    index_col=0, parse_dates=True)\n",
    "positions = pd.read_csv(gzip.open('../tests/test_data/test_pos.csv.gz'),\n",
    "                    index_col=0, parse_dates=True)\n",
    "returns = pd.read_csv(gzip.open('../tests/test_data/test_returns.csv.gz'),\n",
    "                      index_col=0, parse_dates=True, header=None)[1]"
   ],
   "outputs": []
  },
  {
   "cell_type": "markdown",
   "metadata": {},
   "source": [
    "## Add Sector Mapping"
   ]
  },
  {
   "cell_type": "code",
   "execution_count": 4,
   "metadata": {
    "ExecuteTime": {
     "end_time": "2021-09-07T02:43:52.439793Z",
     "start_time": "2021-09-07T02:43:52.437219Z"
    }
   },
   "source": [
    "# Optional: Sector mappings may be passed in as a dict or pd.Series. If a mapping is\n",
    "# provided, PnL from symbols with mappings will be summed to display profitability by sector.\n",
    "sect_map = {'COST': 'Consumer Goods', 'INTC':'Technology', 'CERN':'Healthcare', 'GPS':'Technology',\n",
    "            'MMM': 'Construction', 'DELL': 'Technology', 'AMD':'Technology'}"
   ],
   "outputs": []
  },
  {
   "cell_type": "markdown",
   "metadata": {},
   "source": [
    "## Run Round Trip Tear Sheet"
   ]
  },
  {
   "cell_type": "markdown",
   "metadata": {},
   "source": [
    "The easiest way to run the analysis is to call `pyfolio.create_round_trip_tear_sheet()`. Passing in a sector map is optional. You can also pass `round_trips=True` to `pyfolio.create_full_tear_sheet()` to have this be created along all the other analyses."
   ]
  },
  {
   "cell_type": "code",
   "execution_count": 5,
   "metadata": {
    "ExecuteTime": {
     "end_time": "2021-09-07T02:44:23.168045Z",
     "start_time": "2021-09-07T02:43:54.942707Z"
    },
    "scrolled": false
   },
   "source": [
    "pf.create_round_trip_tear_sheet(returns, positions, transactions, sector_mappings=sect_map)"
   ],
   "outputs": []
  },
  {
   "cell_type": "markdown",
   "metadata": {},
   "source": [
    "## Explore underlying functions"
   ]
  },
  {
   "cell_type": "markdown",
   "metadata": {},
   "source": [
    "Under the hood, several functions are being called. `extract_round_trips()` does the portfolio reconstruction and creates the round-trip trades."
   ]
  },
  {
   "cell_type": "code",
   "execution_count": 6,
   "metadata": {
    "ExecuteTime": {
     "end_time": "2021-09-07T02:44:28.339232Z",
     "start_time": "2021-09-07T02:44:23.171046Z"
    }
   },
   "source": [
    "rts = pf.round_trips.extract_round_trips(transactions, \n",
    "                                         portfolio_value=positions.sum(axis='columns') / (returns + 1))"
   ],
   "outputs": []
  },
  {
   "cell_type": "code",
   "execution_count": 7,
   "metadata": {
    "ExecuteTime": {
     "end_time": "2021-09-07T02:44:28.358198Z",
     "start_time": "2021-09-07T02:44:28.340552Z"
    }
   },
   "source": [
    "rts.head()"
   ],
   "outputs": []
  },
  {
   "cell_type": "code",
   "execution_count": 8,
   "metadata": {
    "ExecuteTime": {
     "end_time": "2021-09-07T02:44:28.443008Z",
     "start_time": "2021-09-07T02:44:28.359105Z"
    }
   },
   "source": [
    "pf.round_trips.print_round_trip_stats(rts)"
   ],
   "outputs": []
  }
 ],
 "metadata": {
  "kernelspec": {
   "display_name": "Python 3",
   "language": "python",
   "name": "python3"
  },
  "language_info": {
   "codemirror_mode": {
    "name": "ipython",
    "version": 3
   },
   "file_extension": ".py",
   "mimetype": "text/x-python",
   "name": "python",
   "nbconvert_exporter": "python",
   "pygments_lexer": "ipython3",
   "version": "3.8.8"
  },
  "toc": {
   "base_numbering": 1,
   "nav_menu": {},
   "number_sections": true,
   "sideBar": true,
   "skip_h1_title": false,
   "title_cell": "Table of Contents",
   "title_sidebar": "Contents",
   "toc_cell": false,
   "toc_position": {},
   "toc_section_display": true,
   "toc_window_display": false
  }
 },
 "nbformat": 4,
 "nbformat_minor": 1
}
